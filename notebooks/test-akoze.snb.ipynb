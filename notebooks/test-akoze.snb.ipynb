{
  "metadata" : {
    "id" : "fd8e14d5-3e5f-4dd3-b1df-c84a402f7f6e",
    "name" : "test-akoze",
    "user_save_timestamp" : "1970-01-01T01:00:00.000Z",
    "auto_save_timestamp" : "1970-01-01T01:00:00.000Z",
    "language_info" : {
      "name" : "scala",
      "file_extension" : "scala",
      "codemirror_mode" : "text/x-scala"
    },
    "trusted" : true,
    "sparkNotebook" : null,
    "customLocalRepo" : null,
    "customRepos" : null,
    "customDeps" : null,
    "customImports" : null,
    "customArgs" : null,
    "customSparkConf" : {
      "spark.app.name" : "Notebook",
      "spark.master" : "local[8]",
      "spark.executor.memory" : "1G"
    },
    "customVars" : null
  },
  "cells" : [
    {
      "metadata" : {
        "trusted" : true,
        "input_collapsed" : false,
        "collapsed" : false,
        "id" : "26AE57AA9D5946BAB661C2125992E991"
      },
      "cell_type" : "code",
      "source" : [
        "import java.util.Calendar\n",
        "import java.util.Date"
      ],
      "outputs" : [
        {
          "name" : "stdout",
          "output_type" : "stream",
          "text" : "import java.util.Calendar\nimport java.util.Date\n"
        },
        {
          "metadata" : { },
          "data" : {
            "text/html" : ""
          },
          "output_type" : "execute_result",
          "execution_count" : 2,
          "time" : "Took: 1.150s, at 2017-10-15 22:31"
        }
      ]
    },
    {
      "metadata" : {
        "trusted" : true,
        "input_collapsed" : false,
        "collapsed" : false,
        "id" : "5AEC890C305440969D58AEFD220D030B"
      },
      "cell_type" : "code",
      "source" : [
        "def date(y: Int, m: Int, d: Int) : Date = {\n",
        "  val cal = Calendar.getInstance()\n",
        "  cal.set(y, m-1, d, 0, 0, 0)\n",
        "  cal.getTime()\n",
        "}"
      ],
      "outputs" : [
        {
          "name" : "stdout",
          "output_type" : "stream",
          "text" : "date: (y: Int, m: Int, d: Int)java.util.Date\n"
        },
        {
          "metadata" : { },
          "data" : {
            "text/html" : ""
          },
          "output_type" : "execute_result",
          "execution_count" : 3,
          "time" : "Took: 1.195s, at 2017-10-15 22:32"
        }
      ]
    },
    {
      "metadata" : {
        "trusted" : true,
        "input_collapsed" : false,
        "collapsed" : false,
        "id" : "0397679AE075405E8A0E7073ADA98E99"
      },
      "cell_type" : "code",
      "source" : [
        "import java.util.Date\n",
        "case class Karol(calDate: Date, cnt: Int)"
      ],
      "outputs" : [
        {
          "name" : "stdout",
          "output_type" : "stream",
          "text" : "import java.util.Date\ndefined class Karol\n"
        },
        {
          "metadata" : { },
          "data" : {
            "text/html" : ""
          },
          "output_type" : "execute_result",
          "execution_count" : 4,
          "time" : "Took: 1.088s, at 2017-10-15 22:34"
        }
      ]
    },
    {
      "metadata" : {
        "trusted" : true,
        "input_collapsed" : false,
        "collapsed" : false,
        "id" : "6C201AE8D0364F6F8EE3AE41B4DF7F76"
      },
      "cell_type" : "code",
      "source" : [
        "val series = Seq(\n",
        "  Karol(date(1994, 10, 10), 1),\n",
        "  Karol(date(1994, 10, 11), 2),\n",
        "  Karol(date(1994, 10, 12), 3)\n",
        ")"
      ],
      "outputs" : [
        {
          "name" : "stdout",
          "output_type" : "stream",
          "text" : "series: Seq[Karol] = List(Karol(Mon Oct 10 00:00:00 CET 1994,1), Karol(Tue Oct 11 00:00:00 CET 1994,2), Karol(Wed Oct 12 00:00:00 CET 1994,3))\n"
        },
        {
          "metadata" : { },
          "data" : {
            "text/html" : ""
          },
          "output_type" : "execute_result",
          "execution_count" : 5,
          "time" : "Took: 1.102s, at 2017-10-15 22:35"
        }
      ]
    },
    {
      "metadata" : {
        "trusted" : true,
        "input_collapsed" : false,
        "collapsed" : false,
        "id" : "DBF46BA0A8D041B292DFA01857FD061B"
      },
      "cell_type" : "code",
      "source" : [
        "TimeseriesChart(\n",
        "  series,\n",
        "  fields = Some((\"calDate\", \"cnt\"))\n",
        ")"
      ],
      "outputs" : [
        {
          "name" : "stdout",
          "output_type" : "stream",
          "text" : "res6: notebook.front.widgets.charts.TimeseriesChart[Seq[Karol]] = <TimeseriesChart widget>\n"
        },
        {
          "metadata" : { },
          "data" : {
            "text/html" : "<div>\n      <script data-this=\"{&quot;dataId&quot;:&quot;anon8e00f0faa075e18e6a2de95ba605031e&quot;,&quot;dataInit&quot;:[{&quot;calDate&quot;:&quot;Mon Oct 10 00:00:00 CET 1994&quot;,&quot;cnt&quot;:1},{&quot;calDate&quot;:&quot;Tue Oct 11 00:00:00 CET 1994&quot;,&quot;cnt&quot;:2},{&quot;calDate&quot;:&quot;Wed Oct 12 00:00:00 CET 1994&quot;,&quot;cnt&quot;:3}],&quot;genId&quot;:&quot;1913127405&quot;}\" type=\"text/x-scoped-javascript\">/*<![CDATA[*/req(['../javascripts/notebook/playground','../javascripts/notebook/magic/tsChart'], \n      function(playground, _magictsChart) {\n        // data ==> data-this (in observable.js's scopedEval) ==> this in JS => { dataId, dataInit, ... }\n        // this ==> scope (in observable.js's scopedEval) ==> this.parentElement ==> div.container below (toHtml)\n\n        playground.call(data,\n                        this\n                        ,\n                        {\n    \"f\": _magictsChart,\n    \"o\": {\"x\":\"calDate\",\"y\":\"cnt\",\"width\":600,\"height\":400,\"tickFormat\":\"%Y-%m-%d %H:%M:%S\"}\n  }\n  \n                        \n                        \n                      );\n      }\n    );/*]]>*/</script>\n    <div>\n      <span class=\"chart-total-item-count\"><p data-bind=\"text: value\"><script data-this=\"{&quot;valueId&quot;:&quot;anond28394875937ea32b08f16f812485a2d&quot;,&quot;initialValue&quot;:&quot;3&quot;}\" type=\"text/x-scoped-javascript\">/*<![CDATA[*/\nreq(\n['observable', 'knockout'],\nfunction (O, ko) {\n  ko.applyBindings({\n      value: O.makeObservable(valueId, initialValue)\n    },\n    this\n  );\n});\n        /*]]>*/</script></p> entries total</span>\n      <span class=\"chart-sampling-warning\"><p data-bind=\"text: value\"><script data-this=\"{&quot;valueId&quot;:&quot;anon0aff964cfd80f9d98c3b596e3bdc5e76&quot;,&quot;initialValue&quot;:&quot;&quot;}\" type=\"text/x-scoped-javascript\">/*<![CDATA[*/\nreq(\n['observable', 'knockout'],\nfunction (O, ko) {\n  ko.applyBindings({\n      value: O.makeObservable(valueId, initialValue)\n    },\n    this\n  );\n});\n        /*]]>*/</script></p></span>\n      <div>\n      </div>\n    </div></div>"
          },
          "output_type" : "execute_result",
          "execution_count" : 6,
          "time" : "Took: 1.617s, at 2017-10-15 22:35"
        }
      ]
    }
  ],
  "nbformat" : 4
}